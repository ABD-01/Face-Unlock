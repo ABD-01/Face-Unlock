{
  "nbformat": 4,
  "nbformat_minor": 0,
  "metadata": {
    "colab": {
      "name": "FaceNet.ipynb",
      "provenance": [],
      "mount_file_id": "https://github.com/ABD-01/Face-Unlock/blob/master/FaceNet.ipynb",
      "authorship_tag": "ABX9TyOEKpDTL4V9zLoOFBagX8CV",
      "include_colab_link": true
    },
    "kernelspec": {
      "name": "python3",
      "display_name": "Python 3"
    },
    "language_info": {
      "name": "python"
    }
  },
  "cells": [
    {
      "cell_type": "markdown",
      "metadata": {
        "id": "view-in-github",
        "colab_type": "text"
      },
      "source": [
        "<a href=\"https://colab.research.google.com/github/ABD-01/Face-Unlock/blob/master/FaceNet.ipynb\" target=\"_parent\"><img src=\"https://colab.research.google.com/assets/colab-badge.svg\" alt=\"Open In Colab\"/></a>"
      ]
    },
    {
      "cell_type": "code",
      "metadata": {
        "id": "pF251DJe1kay"
      },
      "source": [
        "import glob\n",
        "import numpy as np\n",
        "import random\n",
        "import matplotlib.pyplot as plt\n",
        "from PIL import Image\n",
        "from itertools import combinations \n",
        "from collections import OrderedDict\n",
        "from tqdm import tqdm #, tqdm_notebook\n",
        "from tqdm.notebook import tqdm as tqdm_notebook\n",
        " \n",
        "import torch\n",
        "import torch.nn as nn\n",
        "import torch.nn.functional as F\n",
        "import torch.optim as optim\n",
        "from torch.utils.data import Dataset, DataLoader, TensorDataset\n",
        "\n",
        "import torchvision\n",
        "import torchvision.transforms as transforms\n",
        "\n",
        "from typing import Callable, Optional\n",
        "from  torchvision.datasets import ImageFolder\n",
        "from torchvision.transforms import ToTensor"
      ],
      "execution_count": 1,
      "outputs": []
    },
    {
      "cell_type": "code",
      "metadata": {
        "id": "L0EXnuDr5Gij",
        "outputId": "a305e9e8-8326-45ae-ddbf-d0a08de4d8c6",
        "colab": {
          "base_uri": "https://localhost:8080/"
        }
      },
      "source": [
        "torch.cuda.is_available()"
      ],
      "execution_count": 2,
      "outputs": [
        {
          "output_type": "execute_result",
          "data": {
            "text/plain": [
              "False"
            ]
          },
          "metadata": {
            "tags": []
          },
          "execution_count": 2
        }
      ]
    },
    {
      "cell_type": "code",
      "metadata": {
        "id": "Pa4zMLWA5JIT"
      },
      "source": [
        "def seed_init():\n",
        "    np.random.seed(0)\n",
        "    random.seed(0)\n",
        "    torch.manual_seed(0)\n",
        "    if torch.cuda.is_available():\n",
        "        torch.cuda.manual_seed(0)\n",
        "        torch.cuda.manual_seed_all(0)\n",
        "    torch.backends.cudnn.enabled = False\n",
        "    torch.backends.cudnn.benchmark = False\n",
        "    torch.backends.cudnn.deterministic = True\n",
        "\n",
        "seed_init()\n",
        "# ref : https://discuss.pytorch.org/t/random-seed-initialization/7854/19\n"
      ],
      "execution_count": 3,
      "outputs": []
    },
    {
      "cell_type": "code",
      "metadata": {
        "id": "ZSZq8DXf5OYp"
      },
      "source": [
        "PATH = '/content/drive/MyDrive/Colab Notebooks/att_face_dataset/'"
      ],
      "execution_count": 48,
      "outputs": []
    },
    {
      "cell_type": "code",
      "metadata": {
        "id": "LBesUs6T5W5Y"
      },
      "source": [
        "def pil_loader(path: str) -> Image.Image:\n",
        "    # open path as file to avoid ResourceWarning (https://github.com/python-pillow/Pillow/issues/835)\n",
        "    with open(path, 'rb') as f:\n",
        "        img = Image.open(f)\n",
        "        return img.convert()\n",
        "\n",
        "class AttDataset(ImageFolder):\n",
        "\n",
        "    def __init__(\n",
        "        self,\n",
        "        path: str,\n",
        "        transform: Optional[Callable] = ToTensor()\n",
        "    ):\n",
        "        super(AttDataset, self).__init__(path,transform, loader=pil_loader)\n",
        "\n",
        "# ref: https://pytorch.org/vision/stable/_modules/torchvision/datasets/folder.html#ImageFolder"
      ],
      "execution_count": 53,
      "outputs": []
    },
    {
      "cell_type": "code",
      "metadata": {
        "id": "dbnGVAsuBQVo"
      },
      "source": [
        "process = transforms.Compose([\n",
        "    transforms.Resize((224,224), interpolation= transforms.InterpolationMode.BICUBIC),\n",
        "    transforms.ToTensor(),\n",
        "    transforms.Normalize(mean=0.4422, std=0.1931),\n",
        "])"
      ],
      "execution_count": 54,
      "outputs": []
    },
    {
      "cell_type": "code",
      "metadata": {
        "id": "lM5xvufx6g1O",
        "outputId": "ae7c0ba1-ca48-4487-df9b-03f03f838f36",
        "colab": {
          "base_uri": "https://localhost:8080/"
        }
      },
      "source": [
        "dataset = AttDataset(PATH, transform=process)\n",
        "dataset"
      ],
      "execution_count": 59,
      "outputs": [
        {
          "output_type": "execute_result",
          "data": {
            "text/plain": [
              "Dataset AttDataset\n",
              "    Number of datapoints: 400\n",
              "    Root location: /content/drive/MyDrive/Colab Notebooks/att_face_dataset/\n",
              "    StandardTransform\n",
              "Transform: Compose(\n",
              "               Resize(size=(224, 224), interpolation=bicubic)\n",
              "               ToTensor()\n",
              "               Normalize(mean=0.4422, std=0.1931)\n",
              "           )"
            ]
          },
          "metadata": {
            "tags": []
          },
          "execution_count": 59
        }
      ]
    },
    {
      "cell_type": "code",
      "metadata": {
        "id": "AKUD2z7X_8Ib",
        "outputId": "cc15b19a-34c8-4cd5-c705-a6a2ea5c97d9",
        "colab": {
          "base_uri": "https://localhost:8080/",
          "height": 286
        }
      },
      "source": [
        "plt.imshow(dataset[0][0].squeeze(), cmap='gray')"
      ],
      "execution_count": 61,
      "outputs": [
        {
          "output_type": "execute_result",
          "data": {
            "text/plain": [
              "<matplotlib.image.AxesImage at 0x7f848d697a50>"
            ]
          },
          "metadata": {
            "tags": []
          },
          "execution_count": 61
        },
        {
          "output_type": "display_data",
          "data": {
            "image/png": "[encoded data removed]",
            "text/plain": [
              "<Figure size 432x288 with 1 Axes>"
            ]
          },
          "metadata": {
            "tags": [],
            "needs_background": "light"
          }
        }
      ]
    },
    {
      "cell_type": "code",
      "metadata": {
        "id": "MKkiZwo77umF",
        "outputId": "74eabb41-4d7c-48ed-f051-05e83b5629ed",
        "colab": {
          "base_uri": "https://localhost:8080/"
        }
      },
      "source": [
        "t = torch.randn(4,5)\n",
        "t"
      ],
      "execution_count": 76,
      "outputs": [
        {
          "output_type": "execute_result",
          "data": {
            "text/plain": [
              "tensor([[ 0.0127, -0.7324,  0.5727,  0.7141,  0.7940],\n",
              "        [-1.3962, -0.4494,  1.1166, -0.5309,  1.5457],\n",
              "        [ 1.3264, -0.4194, -1.8764,  0.1081,  1.2119],\n",
              "        [ 0.1974, -2.8361, -0.0928,  1.4823, -0.3664]])"
            ]
          },
          "metadata": {
            "tags": []
          },
          "execution_count": 76
        }
      ]
    },
    {
      "cell_type": "code",
      "metadata": {
        "id": "U04gdmd_tsNq",
        "outputId": "8b9760c2-5847-4026-9e8e-08b27c76d7e6",
        "colab": {
          "base_uri": "https://localhost:8080/"
        }
      },
      "source": [
        "torch.transpose(t, 0,1)"
      ],
      "execution_count": 4,
      "outputs": [
        {
          "output_type": "execute_result",
          "data": {
            "text/plain": [
              "tensor([[0.7580, 0.2591, 0.7050, 0.7384],\n",
              "        [0.3276, 0.9551, 0.8208, 0.8103],\n",
              "        [0.6358, 0.6649, 0.6041, 0.8570],\n",
              "        [0.1005, 0.7192, 0.2275, 0.3516],\n",
              "        [0.2917, 0.2577, 0.6584, 0.2809]])"
            ]
          },
          "metadata": {
            "tags": []
          },
          "execution_count": 4
        }
      ]
    },
    {
      "cell_type": "code",
      "metadata": {
        "id": "Ew7f-lLxt2bH",
        "outputId": "cc3227b0-380e-4dc4-9585-9f2616164649",
        "colab": {
          "base_uri": "https://localhost:8080/"
        }
      },
      "source": [
        "t.T"
      ],
      "execution_count": 5,
      "outputs": [
        {
          "output_type": "execute_result",
          "data": {
            "text/plain": [
              "tensor([[0.7580, 0.2591, 0.7050, 0.7384],\n",
              "        [0.3276, 0.9551, 0.8208, 0.8103],\n",
              "        [0.6358, 0.6649, 0.6041, 0.8570],\n",
              "        [0.1005, 0.7192, 0.2275, 0.3516],\n",
              "        [0.2917, 0.2577, 0.6584, 0.2809]])"
            ]
          },
          "metadata": {
            "tags": []
          },
          "execution_count": 5
        }
      ]
    },
    {
      "cell_type": "code",
      "metadata": {
        "id": "gp9sTJYKt3CW",
        "outputId": "268db77d-4407-4223-d364-e6d1ecc55b35",
        "colab": {
          "base_uri": "https://localhost:8080/"
        }
      },
      "source": [
        "dp = torch.matmul(t, t.T)\n",
        "dp"
      ],
      "execution_count": 19,
      "outputs": [
        {
          "output_type": "execute_result",
          "data": {
            "text/plain": [
              "tensor([[1.1813, 1.0795, 1.4023, 1.4873],\n",
              "        [1.0795, 2.0051, 1.7015, 1.8603],\n",
              "        [1.4023, 1.7015, 2.0209, 1.9683],\n",
              "        [1.4873, 1.8603, 1.9683, 2.1388]])"
            ]
          },
          "metadata": {
            "tags": []
          },
          "execution_count": 19
        }
      ]
    },
    {
      "cell_type": "code",
      "metadata": {
        "id": "iLAI2kTxvfBR",
        "outputId": "94f8797b-65b9-403a-fffb-dd0b30d47ebf",
        "colab": {
          "base_uri": "https://localhost:8080/"
        }
      },
      "source": [
        "d = dp.diag()\n",
        "d, d.shape"
      ],
      "execution_count": 21,
      "outputs": [
        {
          "output_type": "execute_result",
          "data": {
            "text/plain": [
              "(tensor([1.1813, 2.0051, 2.0209, 2.1388]), torch.Size([4]))"
            ]
          },
          "metadata": {
            "tags": []
          },
          "execution_count": 21
        }
      ]
    },
    {
      "cell_type": "code",
      "metadata": {
        "id": "PlAtwaDMvvfe",
        "outputId": "85d76270-323e-416d-cfb7-4472c58d98b8",
        "colab": {
          "base_uri": "https://localhost:8080/"
        }
      },
      "source": [
        "d.unsqueeze(0).shape, d.unsqueeze(1).shape"
      ],
      "execution_count": 23,
      "outputs": [
        {
          "output_type": "execute_result",
          "data": {
            "text/plain": [
              "(torch.Size([1, 4]), torch.Size([4, 1]))"
            ]
          },
          "metadata": {
            "tags": []
          },
          "execution_count": 23
        }
      ]
    },
    {
      "cell_type": "code",
      "metadata": {
        "id": "p17XlIguv2I2",
        "outputId": "fe263365-4094-4724-84df-56cd25c827f1",
        "colab": {
          "base_uri": "https://localhost:8080/"
        }
      },
      "source": [
        "d.unsqueeze(0) + dp + d.unsqueeze(1)"
      ],
      "execution_count": 24,
      "outputs": [
        {
          "output_type": "execute_result",
          "data": {
            "text/plain": [
              "tensor([[3.5439, 4.2659, 4.6045, 4.8074],\n",
              "        [4.2659, 6.0153, 5.7275, 6.0042],\n",
              "        [4.6045, 5.7275, 6.0626, 6.1280],\n",
              "        [4.8074, 6.0042, 6.1280, 6.4163]])"
            ]
          },
          "metadata": {
            "tags": []
          },
          "execution_count": 24
        }
      ]
    },
    {
      "cell_type": "code",
      "metadata": {
        "id": "vIV298srwDaa",
        "outputId": "2e8a49d1-d690-4572-f2b3-4daf60eb2429",
        "colab": {
          "base_uri": "https://localhost:8080/",
          "height": 163
        }
      },
      "source": [
        "t.maximum(0)"
      ],
      "execution_count": 68,
      "outputs": [
        {
          "output_type": "error",
          "ename": "TypeError",
          "evalue": "ignored",
          "traceback": [
            "\u001b[0;31m---------------------------------------------------------------------------\u001b[0m",
            "\u001b[0;31mTypeError\u001b[0m                                 Traceback (most recent call last)",
            "\u001b[0;32m<ipython-input-68-18c01ca2165f>\u001b[0m in \u001b[0;36m<module>\u001b[0;34m()\u001b[0m\n\u001b[0;32m----> 1\u001b[0;31m \u001b[0mt\u001b[0m\u001b[0;34m.\u001b[0m\u001b[0mmaximum\u001b[0m\u001b[0;34m(\u001b[0m\u001b[0;36m0\u001b[0m\u001b[0;34m)\u001b[0m\u001b[0;34m\u001b[0m\u001b[0;34m\u001b[0m\u001b[0m\n\u001b[0m",
            "\u001b[0;31mTypeError\u001b[0m: maximum(): argument 'other' (position 1) must be Tensor, not int"
          ]
        }
      ]
    },
    {
      "cell_type": "code",
      "metadata": {
        "id": "ucUOFQxlwLe1",
        "outputId": "65eb0f60-71ed-48db-8e79-5bf28d433557",
        "colab": {
          "base_uri": "https://localhost:8080/"
        }
      },
      "source": [
        "torch.maximum(t, torch.tensor(0.5))"
      ],
      "execution_count": 34,
      "outputs": [
        {
          "output_type": "execute_result",
          "data": {
            "text/plain": [
              "tensor([[0.7580, 0.5000, 0.6358, 0.5000, 0.5000],\n",
              "        [0.5000, 0.9551, 0.6649, 0.7192, 0.5000],\n",
              "        [0.7050, 0.8208, 0.6041, 0.5000, 0.6584],\n",
              "        [0.7384, 0.8103, 0.8570, 0.5000, 0.5000]])"
            ]
          },
          "metadata": {
            "tags": []
          },
          "execution_count": 34
        }
      ]
    },
    {
      "cell_type": "code",
      "metadata": {
        "id": "yqWPCeYuzPbT",
        "outputId": "86760555-ea15-4868-872d-17628baa265e",
        "colab": {
          "base_uri": "https://localhost:8080/",
          "height": 163
        }
      },
      "source": [
        "t.where(t>0.5, 0.5)"
      ],
      "execution_count": 37,
      "outputs": [
        {
          "output_type": "error",
          "ename": "TypeError",
          "evalue": "ignored",
          "traceback": [
            "\u001b[0;31m---------------------------------------------------------------------------\u001b[0m",
            "\u001b[0;31mTypeError\u001b[0m                                 Traceback (most recent call last)",
            "\u001b[0;32m<ipython-input-37-a84d247ad0bb>\u001b[0m in \u001b[0;36m<module>\u001b[0;34m()\u001b[0m\n\u001b[0;32m----> 1\u001b[0;31m \u001b[0mt\u001b[0m\u001b[0;34m.\u001b[0m\u001b[0mwhere\u001b[0m\u001b[0;34m(\u001b[0m\u001b[0mt\u001b[0m\u001b[0;34m>\u001b[0m\u001b[0;36m0.5\u001b[0m\u001b[0;34m,\u001b[0m \u001b[0;36m0.5\u001b[0m\u001b[0;34m)\u001b[0m\u001b[0;34m\u001b[0m\u001b[0;34m\u001b[0m\u001b[0m\n\u001b[0m",
            "\u001b[0;31mTypeError\u001b[0m: where(): argument 'other' (position 2) must be Tensor, not float"
          ]
        }
      ]
    },
    {
      "cell_type": "code",
      "metadata": {
        "id": "ha4cOnNi09PK",
        "outputId": "c593e6ce-105d-490b-f08d-8c85fb1a3cc3",
        "colab": {
          "base_uri": "https://localhost:8080/"
        }
      },
      "source": [
        "torch.relu(t)"
      ],
      "execution_count": 41,
      "outputs": [
        {
          "output_type": "execute_result",
          "data": {
            "text/plain": [
              "tensor([[0.0000, 0.0000, 0.0000, 0.0000, 0.0000],\n",
              "        [0.2591, 0.9551, 0.6649, 0.7192, 0.2577],\n",
              "        [0.7050, 0.8208, 0.6041, 0.2275, 0.6584],\n",
              "        [0.7384, 0.8103, 0.8570, 0.3516, 0.2809]])"
            ]
          },
          "metadata": {
            "tags": []
          },
          "execution_count": 41
        }
      ]
    },
    {
      "cell_type": "code",
      "metadata": {
        "id": "EIYaxtCD6SU5",
        "outputId": "0f4d4100-b6d8-4632-8e41-5b1da1921b24",
        "colab": {
          "base_uri": "https://localhost:8080/"
        }
      },
      "source": [
        "t.relu()"
      ],
      "execution_count": 79,
      "outputs": [
        {
          "output_type": "execute_result",
          "data": {
            "text/plain": [
              "tensor([[0.0127, 0.0000, 0.5727, 0.7141, 0.7940],\n",
              "        [0.0000, 0.0000, 1.1166, 0.0000, 1.5457],\n",
              "        [1.3264, 0.0000, 0.0000, 0.1081, 1.2119],\n",
              "        [0.1974, 0.0000, 0.0000, 1.4823, 0.0000]])"
            ]
          },
          "metadata": {
            "tags": []
          },
          "execution_count": 79
        }
      ]
    },
    {
      "cell_type": "code",
      "metadata": {
        "id": "zvK5Aq2ECvSd",
        "outputId": "c0497926-b113-4d02-d79e-eb3415262ae8",
        "colab": {
          "base_uri": "https://localhost:8080/"
        }
      },
      "source": [
        "t"
      ],
      "execution_count": 80,
      "outputs": [
        {
          "output_type": "execute_result",
          "data": {
            "text/plain": [
              "tensor([[ 0.0127, -0.7324,  0.5727,  0.7141,  0.7940],\n",
              "        [-1.3962, -0.4494,  1.1166, -0.5309,  1.5457],\n",
              "        [ 1.3264, -0.4194, -1.8764,  0.1081,  1.2119],\n",
              "        [ 0.1974, -2.8361, -0.0928,  1.4823, -0.3664]])"
            ]
          },
          "metadata": {
            "tags": []
          },
          "execution_count": 80
        }
      ]
    },
    {
      "cell_type": "code",
      "metadata": {
        "id": "lDSrNQ8aCuhk",
        "outputId": "ad7c2b65-d1fb-4ebd-91dc-c039f415d2bd",
        "colab": {
          "base_uri": "https://localhost:8080/"
        }
      },
      "source": [
        "t"
      ],
      "execution_count": 75,
      "outputs": [
        {
          "output_type": "execute_result",
          "data": {
            "text/plain": [
              "tensor([[1.3809, 0.4342, 0.0000, 0.6277, 0.4836],\n",
              "        [0.0000, 1.3889, 0.0000, 0.0000, 0.0000],\n",
              "        [0.0000, 0.9686, 0.4009, 0.4681, 1.5826],\n",
              "        [1.3776, 0.3969, 0.0000, 0.0255, 0.0000]])"
            ]
          },
          "metadata": {
            "tags": []
          },
          "execution_count": 75
        }
      ]
    },
    {
      "cell_type": "code",
      "metadata": {
        "id": "6JbP61lf_zJj",
        "outputId": "54d7c26c-b33a-4767-a1e0-f5c10ba15697",
        "colab": {
          "base_uri": "https://localhost:8080/"
        }
      },
      "source": [
        "torch.eq(t, 0).float()"
      ],
      "execution_count": 70,
      "outputs": [
        {
          "output_type": "execute_result",
          "data": {
            "text/plain": [
              "tensor([[0., 0., 0., 0., 0.],\n",
              "        [0., 0., 0., 0., 0.],\n",
              "        [0., 0., 0., 0., 0.],\n",
              "        [0., 0., 0., 0., 0.]])"
            ]
          },
          "metadata": {
            "tags": []
          },
          "execution_count": 70
        }
      ]
    },
    {
      "cell_type": "code",
      "metadata": {
        "id": "nZSEDsejBG32",
        "outputId": "aa649157-4b74-42fa-bd16-d6c2e6508c7c",
        "colab": {
          "base_uri": "https://localhost:8080/"
        }
      },
      "source": [
        "t.float()"
      ],
      "execution_count": 59,
      "outputs": [
        {
          "output_type": "execute_result",
          "data": {
            "text/plain": [
              "tensor([[-1.0000, -1.0000, -1.0000, -1.0000, -1.0000],\n",
              "        [ 0.2591,  0.9551,  0.6649,  0.7192,  0.2577],\n",
              "        [ 0.7050,  0.8208,  0.6041,  0.2275,  0.6584],\n",
              "        [ 0.7384,  0.8103,  0.8570,  0.3516,  0.2809]])"
            ]
          },
          "metadata": {
            "tags": []
          },
          "execution_count": 59
        }
      ]
    },
    {
      "cell_type": "code",
      "metadata": {
        "id": "8Y9AEzYTBpTV",
        "outputId": "8a488610-d2e3-4b67-c62d-4b9640bf4477",
        "colab": {
          "base_uri": "https://localhost:8080/"
        }
      },
      "source": [
        "t.sqrt_()"
      ],
      "execution_count": 64,
      "outputs": [
        {
          "output_type": "execute_result",
          "data": {
            "text/plain": [
              "tensor([[   nan,    nan,    nan,    nan,    nan],\n",
              "        [0.5090, 0.9773, 0.8154, 0.8481, 0.5077],\n",
              "        [0.8397, 0.9060, 0.7772, 0.4769, 0.8114],\n",
              "        [0.8593, 0.9002, 0.9257, 0.5930, 0.5300]])"
            ]
          },
          "metadata": {
            "tags": []
          },
          "execution_count": 64
        }
      ]
    },
    {
      "cell_type": "code",
      "metadata": {
        "id": "PORNXAMPB1nZ",
        "outputId": "17587e3c-cb60-4b28-aeba-d8c23427adc2",
        "colab": {
          "base_uri": "https://localhost:8080/"
        }
      },
      "source": [
        "t.relu_()"
      ],
      "execution_count": 82,
      "outputs": [
        {
          "output_type": "execute_result",
          "data": {
            "text/plain": [
              "tensor([[0.0127, 0.0000, 0.5727, 0.7141, 0.7940],\n",
              "        [0.0000, 0.0000, 1.1166, 0.0000, 1.5457],\n",
              "        [1.3264, 0.0000, 0.0000, 0.1081, 1.2119],\n",
              "        [0.1974, 0.0000, 0.0000, 1.4823, 0.0000]])"
            ]
          },
          "metadata": {
            "tags": []
          },
          "execution_count": 82
        }
      ]
    },
    {
      "cell_type": "code",
      "metadata": {
        "id": "OhD-oE58B6IM"
      },
      "source": [
        "m = t.eq(0).float()"
      ],
      "execution_count": 88,
      "outputs": []
    },
    {
      "cell_type": "code",
      "metadata": {
        "id": "lx06JvJaDFkv"
      },
      "source": [
        "t = t + m*1e-16"
      ],
      "execution_count": 93,
      "outputs": []
    },
    {
      "cell_type": "code",
      "metadata": {
        "id": "Gq0R-rL8D_60",
        "outputId": "cb702808-1944-40ca-9aa5-ebb81004c534",
        "colab": {
          "base_uri": "https://localhost:8080/"
        }
      },
      "source": [
        "t.sqrt()*(1-m)"
      ],
      "execution_count": 99,
      "outputs": [
        {
          "output_type": "execute_result",
          "data": {
            "text/plain": [
              "tensor([[0.1127, 0.0000, 0.7568, 0.8450, 0.8911],\n",
              "        [0.0000, 0.0000, 1.0567, 0.0000, 1.2433],\n",
              "        [1.1517, 0.0000, 0.0000, 0.3287, 1.1009],\n",
              "        [0.4443, 0.0000, 0.0000, 1.2175, 0.0000]])"
            ]
          },
          "metadata": {
            "tags": []
          },
          "execution_count": 99
        }
      ]
    },
    {
      "cell_type": "code",
      "metadata": {
        "id": "So5NVEdzEO9V",
        "outputId": "cd709065-e348-43ae-b44c-e5e7ac6bbaa4",
        "colab": {
          "base_uri": "https://localhost:8080/"
        }
      },
      "source": [
        "t"
      ],
      "execution_count": 100,
      "outputs": [
        {
          "output_type": "execute_result",
          "data": {
            "text/plain": [
              "tensor([[1.2710e-02, 1.0000e-16, 5.7273e-01, 7.1409e-01, 7.9400e-01],\n",
              "        [1.0000e-16, 1.0000e-16, 1.1166e+00, 1.0000e-16, 1.5457e+00],\n",
              "        [1.3264e+00, 1.0000e-16, 1.0000e-16, 1.0808e-01, 1.2119e+00],\n",
              "        [1.9736e-01, 1.0000e-16, 1.0000e-16, 1.4823e+00, 1.0000e-16]])"
            ]
          },
          "metadata": {
            "tags": []
          },
          "execution_count": 100
        }
      ]
    },
    {
      "cell_type": "code",
      "metadata": {
        "id": "TgBlT66vEmlU",
        "outputId": "46c89b97-4c51-4118-9d14-99b09edc8ff8",
        "colab": {
          "base_uri": "https://localhost:8080/"
        }
      },
      "source": [
        "t.multiply(2)"
      ],
      "execution_count": 101,
      "outputs": [
        {
          "output_type": "execute_result",
          "data": {
            "text/plain": [
              "tensor([[2.5420e-02, 2.0000e-16, 1.1455e+00, 1.4282e+00, 1.5880e+00],\n",
              "        [2.0000e-16, 2.0000e-16, 2.2331e+00, 2.0000e-16, 3.0915e+00],\n",
              "        [2.6528e+00, 2.0000e-16, 2.0000e-16, 2.1615e-01, 2.4238e+00],\n",
              "        [3.9472e-01, 2.0000e-16, 2.0000e-16, 2.9646e+00, 2.0000e-16]])"
            ]
          },
          "metadata": {
            "tags": []
          },
          "execution_count": 101
        }
      ]
    },
    {
      "cell_type": "code",
      "metadata": {
        "id": "dMATXBDAEaWx",
        "outputId": "e38ed0fd-feff-4a7e-d321-8db5ad44e89f",
        "colab": {
          "base_uri": "https://localhost:8080/"
        }
      },
      "source": [
        "t.sqrt_().multiply_(1-m)"
      ],
      "execution_count": 103,
      "outputs": [
        {
          "output_type": "execute_result",
          "data": {
            "text/plain": [
              "tensor([[0.3358, 0.0000, 0.8699, 0.9193, 0.9440],\n",
              "        [0.0000, 0.0000, 1.0279, 0.0000, 1.1150],\n",
              "        [1.0732, 0.0000, 0.0000, 0.5734, 1.0492],\n",
              "        [0.6665, 0.0000, 0.0000, 1.1034, 0.0000]])"
            ]
          },
          "metadata": {
            "tags": []
          },
          "execution_count": 103
        }
      ]
    },
    {
      "cell_type": "code",
      "metadata": {
        "id": "6-3T5n-GEtBe",
        "outputId": "219ff236-043e-4382-dff5-6674a238deb9",
        "colab": {
          "base_uri": "https://localhost:8080/"
        }
      },
      "source": [
        "t"
      ],
      "execution_count": 104,
      "outputs": [
        {
          "output_type": "execute_result",
          "data": {
            "text/plain": [
              "tensor([[0.3358, 0.0000, 0.8699, 0.9193, 0.9440],\n",
              "        [0.0000, 0.0000, 1.0279, 0.0000, 1.1150],\n",
              "        [1.0732, 0.0000, 0.0000, 0.5734, 1.0492],\n",
              "        [0.6665, 0.0000, 0.0000, 1.1034, 0.0000]])"
            ]
          },
          "metadata": {
            "tags": []
          },
          "execution_count": 104
        }
      ]
    },
    {
      "cell_type": "code",
      "metadata": {
        "id": "6gvXkiKqEulP",
        "outputId": "ab98d794-c837-438e-c443-fc2f9d6ae0fc",
        "colab": {
          "base_uri": "https://localhost:8080/"
        }
      },
      "source": [
        "labels = torch.cat([torch.ones(4)*_ for _ in range(4)])\n",
        "labels"
      ],
      "execution_count": 114,
      "outputs": [
        {
          "output_type": "execute_result",
          "data": {
            "text/plain": [
              "tensor([0., 0., 0., 0., 1., 1., 1., 1., 2., 2., 2., 2., 3., 3., 3., 3.])"
            ]
          },
          "metadata": {
            "tags": []
          },
          "execution_count": 114
        }
      ]
    },
    {
      "cell_type": "code",
      "metadata": {
        "id": "O8mbRYWFGS5k",
        "outputId": "66974c81-3cd3-4e12-cdc4-69aca3db5aca",
        "colab": {
          "base_uri": "https://localhost:8080/"
        }
      },
      "source": [
        "labels.shape"
      ],
      "execution_count": 115,
      "outputs": [
        {
          "output_type": "execute_result",
          "data": {
            "text/plain": [
              "torch.Size([16])"
            ]
          },
          "metadata": {
            "tags": []
          },
          "execution_count": 115
        }
      ]
    },
    {
      "cell_type": "code",
      "metadata": {
        "id": "o_n2oqSkGg1V"
      },
      "source": [
        "import tensorflow as tf"
      ],
      "execution_count": 110,
      "outputs": []
    },
    {
      "cell_type": "code",
      "metadata": {
        "id": "dFrEKp1XGnOU"
      },
      "source": [
        "def _get_anchor_positive_triplet_mask(labels):\n",
        "    \"\"\"Return a 2D mask where mask[a, p] is True iff a and p are distinct and have same label.\n",
        "    Args:\n",
        "        labels: tf.int32 `Tensor` with shape [batch_size]\n",
        "    Returns:\n",
        "        mask: tf.bool `Tensor` with shape [batch_size, batch_size]\n",
        "    \"\"\"\n",
        "    # Check that i and j are distinct\n",
        "    indices_equal = tf.cast(tf.eye(tf.shape(labels)[0]), tf.bool)\n",
        "    indices_not_equal = tf.logical_not(indices_equal)\n",
        "\n",
        "    # Check if labels[i] == labels[j]\n",
        "    # Uses broadcasting where the 1st argument has shape (1, batch_size) and the 2nd (batch_size, 1)\n",
        "    labels_equal = tf.equal(tf.expand_dims(labels, 0), tf.expand_dims(labels, 1))\n",
        "\n",
        "    # Combine the two masks\n",
        "    mask = tf.logical_and(indices_not_equal, labels_equal)\n",
        "\n",
        "    return mask"
      ],
      "execution_count": 116,
      "outputs": []
    },
    {
      "cell_type": "code",
      "metadata": {
        "id": "yzP4EdPUGrXN",
        "outputId": "e5f4c688-4eda-4131-c63d-4bb9f41579dc",
        "colab": {
          "base_uri": "https://localhost:8080/"
        }
      },
      "source": [
        "_get_anchor_positive_triplet_mask(labels)"
      ],
      "execution_count": 117,
      "outputs": [
        {
          "output_type": "execute_result",
          "data": {
            "text/plain": [
              "<tf.Tensor: shape=(16, 16), dtype=bool, numpy=\n",
              "array([[False,  True,  True,  True, False, False, False, False, False,\n",
              "        False, False, False, False, False, False, False],\n",
              "       [ True, False,  True,  True, False, False, False, False, False,\n",
              "        False, False, False, False, False, False, False],\n",
              "       [ True,  True, False,  True, False, False, False, False, False,\n",
              "        False, False, False, False, False, False, False],\n",
              "       [ True,  True,  True, False, False, False, False, False, False,\n",
              "        False, False, False, False, False, False, False],\n",
              "       [False, False, False, False, False,  True,  True,  True, False,\n",
              "        False, False, False, False, False, False, False],\n",
              "       [False, False, False, False,  True, False,  True,  True, False,\n",
              "        False, False, False, False, False, False, False],\n",
              "       [False, False, False, False,  True,  True, False,  True, False,\n",
              "        False, False, False, False, False, False, False],\n",
              "       [False, False, False, False,  True,  True,  True, False, False,\n",
              "        False, False, False, False, False, False, False],\n",
              "       [False, False, False, False, False, False, False, False, False,\n",
              "         True,  True,  True, False, False, False, False],\n",
              "       [False, False, False, False, False, False, False, False,  True,\n",
              "        False,  True,  True, False, False, False, False],\n",
              "       [False, False, False, False, False, False, False, False,  True,\n",
              "         True, False,  True, False, False, False, False],\n",
              "       [False, False, False, False, False, False, False, False,  True,\n",
              "         True,  True, False, False, False, False, False],\n",
              "       [False, False, False, False, False, False, False, False, False,\n",
              "        False, False, False, False,  True,  True,  True],\n",
              "       [False, False, False, False, False, False, False, False, False,\n",
              "        False, False, False,  True, False,  True,  True],\n",
              "       [False, False, False, False, False, False, False, False, False,\n",
              "        False, False, False,  True,  True, False,  True],\n",
              "       [False, False, False, False, False, False, False, False, False,\n",
              "        False, False, False,  True,  True,  True, False]])>"
            ]
          },
          "metadata": {
            "tags": []
          },
          "execution_count": 117
        }
      ]
    },
    {
      "cell_type": "code",
      "metadata": {
        "id": "vZ5sRXqdGs1u",
        "outputId": "3b42432f-1056-4c7b-d64d-7baddceca59e",
        "colab": {
          "base_uri": "https://localhost:8080/"
        }
      },
      "source": [
        "indices_equal = tf.cast(tf.eye(tf.shape(labels)[0]), tf.bool)\n",
        "indices_equal"
      ],
      "execution_count": 118,
      "outputs": [
        {
          "output_type": "execute_result",
          "data": {
            "text/plain": [
              "<tf.Tensor: shape=(16, 16), dtype=bool, numpy=\n",
              "array([[ True, False, False, False, False, False, False, False, False,\n",
              "        False, False, False, False, False, False, False],\n",
              "       [False,  True, False, False, False, False, False, False, False,\n",
              "        False, False, False, False, False, False, False],\n",
              "       [False, False,  True, False, False, False, False, False, False,\n",
              "        False, False, False, False, False, False, False],\n",
              "       [False, False, False,  True, False, False, False, False, False,\n",
              "        False, False, False, False, False, False, False],\n",
              "       [False, False, False, False,  True, False, False, False, False,\n",
              "        False, False, False, False, False, False, False],\n",
              "       [False, False, False, False, False,  True, False, False, False,\n",
              "        False, False, False, False, False, False, False],\n",
              "       [False, False, False, False, False, False,  True, False, False,\n",
              "        False, False, False, False, False, False, False],\n",
              "       [False, False, False, False, False, False, False,  True, False,\n",
              "        False, False, False, False, False, False, False],\n",
              "       [False, False, False, False, False, False, False, False,  True,\n",
              "        False, False, False, False, False, False, False],\n",
              "       [False, False, False, False, False, False, False, False, False,\n",
              "         True, False, False, False, False, False, False],\n",
              "       [False, False, False, False, False, False, False, False, False,\n",
              "        False,  True, False, False, False, False, False],\n",
              "       [False, False, False, False, False, False, False, False, False,\n",
              "        False, False,  True, False, False, False, False],\n",
              "       [False, False, False, False, False, False, False, False, False,\n",
              "        False, False, False,  True, False, False, False],\n",
              "       [False, False, False, False, False, False, False, False, False,\n",
              "        False, False, False, False,  True, False, False],\n",
              "       [False, False, False, False, False, False, False, False, False,\n",
              "        False, False, False, False, False,  True, False],\n",
              "       [False, False, False, False, False, False, False, False, False,\n",
              "        False, False, False, False, False, False,  True]])>"
            ]
          },
          "metadata": {
            "tags": []
          },
          "execution_count": 118
        }
      ]
    },
    {
      "cell_type": "code",
      "metadata": {
        "id": "6x4pQx51G2u1",
        "outputId": "e7ff045f-b8af-479f-949b-e79dabfdef34",
        "colab": {
          "base_uri": "https://localhost:8080/"
        }
      },
      "source": [
        "indices_equal.shape"
      ],
      "execution_count": 119,
      "outputs": [
        {
          "output_type": "execute_result",
          "data": {
            "text/plain": [
              "TensorShape([16, 16])"
            ]
          },
          "metadata": {
            "tags": []
          },
          "execution_count": 119
        }
      ]
    },
    {
      "cell_type": "code",
      "metadata": {
        "id": "wyDAZh59HgSR",
        "outputId": "e1072f80-cb63-48f9-cf0c-964991c1bc74",
        "colab": {
          "base_uri": "https://localhost:8080/",
          "height": 163
        }
      },
      "source": [
        "torch.eye(labels.shape[0]).BoolTensor"
      ],
      "execution_count": 122,
      "outputs": [
        {
          "output_type": "error",
          "ename": "AttributeError",
          "evalue": "ignored",
          "traceback": [
            "\u001b[0;31m---------------------------------------------------------------------------\u001b[0m",
            "\u001b[0;31mAttributeError\u001b[0m                            Traceback (most recent call last)",
            "\u001b[0;32m<ipython-input-122-b604edda497b>\u001b[0m in \u001b[0;36m<module>\u001b[0;34m()\u001b[0m\n\u001b[0;32m----> 1\u001b[0;31m \u001b[0mtorch\u001b[0m\u001b[0;34m.\u001b[0m\u001b[0meye\u001b[0m\u001b[0;34m(\u001b[0m\u001b[0mlabels\u001b[0m\u001b[0;34m.\u001b[0m\u001b[0mshape\u001b[0m\u001b[0;34m[\u001b[0m\u001b[0;36m0\u001b[0m\u001b[0;34m]\u001b[0m\u001b[0;34m)\u001b[0m\u001b[0;34m.\u001b[0m\u001b[0mBoolTensor\u001b[0m\u001b[0;34m\u001b[0m\u001b[0;34m\u001b[0m\u001b[0m\n\u001b[0m",
            "\u001b[0;31mAttributeError\u001b[0m: 'Tensor' object has no attribute 'BoolTensor'"
          ]
        }
      ]
    },
    {
      "cell_type": "code",
      "metadata": {
        "id": "SAgiU6gdIJqo"
      },
      "source": [
        ""
      ],
      "execution_count": null,
      "outputs": []
    }
  ]
}